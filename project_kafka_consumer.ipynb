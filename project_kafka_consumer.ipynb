{
 "cells": [
  {
   "cell_type": "code",
   "execution_count": null,
   "id": "f72d3f7d-2d1b-4d09-aa6a-26fcbd87748c",
   "metadata": {},
   "outputs": [],
   "source": [
    "pip install s3fs"
   ]
  },
  {
   "cell_type": "code",
   "execution_count": null,
   "id": "58c94c97-4d5d-49b9-b0f1-71f30da00271",
   "metadata": {},
   "outputs": [],
   "source": [
    "from kafka import KafkaConsumer\n",
    "from time import sleep\n",
    "from json import dumps,loads\n",
    "import json\n",
    "from s3fs import S3FileSystem"
   ]
  },
  {
   "cell_type": "code",
   "execution_count": null,
   "id": "3820e93d-59de-4171-b2b6-52aedd4d44b8",
   "metadata": {},
   "outputs": [],
   "source": [
    "consumer = KafkaConsumer('project-kafka1',\n",
    "                        bootstrap_servers = ['3.87.244.194:9092'],\n",
    "                        value_deserializer = lambda x: loads(x.decode('utf-8')),\n",
    "                        consumer_timeout_ms=10000\n",
    "                        )\n"
   ]
  },
  {
   "cell_type": "code",
   "execution_count": null,
   "id": "bb6b355b-6034-4a08-aa90-91ad917e9196",
   "metadata": {},
   "outputs": [],
   "source": [
    "s3 = S3FileSystem()"
   ]
  },
  {
   "cell_type": "code",
   "execution_count": null,
   "id": "f6d98524-9a90-463f-9ff3-ab3bbeb8a929",
   "metadata": {},
   "outputs": [],
   "source": [
    "for count, i in enumerate(consumer):\n",
    "    with s3.open(f\"s3://project-kafka-stock-market-realtime/stock_market/{count}.json\", 'w') as file:\n",
    "        json.dump(i.value, file)"
   ]
  },
  {
   "cell_type": "code",
   "execution_count": null,
   "id": "b8299283-24f5-4748-82e0-f6682ef57997",
   "metadata": {},
   "outputs": [],
   "source": []
  }
 ],
 "metadata": {
  "kernelspec": {
   "display_name": "Python 3 (ipykernel)",
   "language": "python",
   "name": "python3"
  },
  "language_info": {
   "codemirror_mode": {
    "name": "ipython",
    "version": 3
   },
   "file_extension": ".py",
   "mimetype": "text/x-python",
   "name": "python",
   "nbconvert_exporter": "python",
   "pygments_lexer": "ipython3",
   "version": "3.13.5"
  }
 },
 "nbformat": 4,
 "nbformat_minor": 5
}

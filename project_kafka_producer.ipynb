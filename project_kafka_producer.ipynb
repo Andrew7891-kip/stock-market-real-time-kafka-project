{
 "cells": [
  {
   "cell_type": "code",
   "execution_count": 1,
   "id": "7bfc2c35-ae55-462a-8670-53e1ed374ff9",
   "metadata": {},
   "outputs": [
    {
     "name": "stdout",
     "output_type": "stream",
     "text": [
      "Defaulting to user installation because normal site-packages is not writeable\n",
      "Requirement already satisfied: kafka-python in c:\\users\\administrator\\appdata\\local\\packages\\pythonsoftwarefoundation.python.3.13_qbz5n2kfra8p0\\localcache\\local-packages\\python313\\site-packages (2.2.15)\n",
      "Note: you may need to restart the kernel to use updated packages.\n"
     ]
    }
   ],
   "source": [
    "pip install kafka-python"
   ]
  },
  {
   "cell_type": "code",
   "execution_count": 1,
   "id": "c174bfa5-5992-4380-bb1d-b1626dabe8a8",
   "metadata": {},
   "outputs": [],
   "source": [
    "import pandas as pd\n",
    "from kafka import KafkaProducer\n",
    "from time import sleep\n",
    "from json import dumps\n",
    "import json"
   ]
  },
  {
   "cell_type": "code",
   "execution_count": 2,
   "id": "bfb90be0-f28c-440e-b66f-15f120e558ca",
   "metadata": {},
   "outputs": [],
   "source": [
    "producer = KafkaProducer(bootstrap_servers = ['3.87.244.194:9092'],\n",
    "                         value_serializer  = lambda x:\n",
    "                         dumps(x).encode('utf-8'))"
   ]
  },
  {
   "cell_type": "code",
   "execution_count": 3,
   "id": "8f1b5a03-0939-46c1-85c9-bed276d2895f",
   "metadata": {},
   "outputs": [
    {
     "data": {
      "text/plain": [
       "<kafka.producer.future.FutureRecordMetadata at 0x1478ce31940>"
      ]
     },
     "execution_count": 3,
     "metadata": {},
     "output_type": "execute_result"
    }
   ],
   "source": [
    "producer.send('project-kafka', value = \"{'name : Andrew'},{'age' : '24'}\")"
   ]
  },
  {
   "cell_type": "code",
   "execution_count": 4,
   "id": "09c30afc-3bae-4612-a592-fd0775367412",
   "metadata": {},
   "outputs": [],
   "source": [
    "df  = pd.read_csv(r\"C:\\Users\\Administrator\\Desktop\\project-kafka\\intraday_5min_IBM.csv\")"
   ]
  },
  {
   "cell_type": "code",
   "execution_count": 5,
   "id": "47f53ac8-434d-4a27-9af9-6d189fc29d96",
   "metadata": {},
   "outputs": [
    {
     "data": {
      "text/html": [
       "<div>\n",
       "<style scoped>\n",
       "    .dataframe tbody tr th:only-of-type {\n",
       "        vertical-align: middle;\n",
       "    }\n",
       "\n",
       "    .dataframe tbody tr th {\n",
       "        vertical-align: top;\n",
       "    }\n",
       "\n",
       "    .dataframe thead th {\n",
       "        text-align: right;\n",
       "    }\n",
       "</style>\n",
       "<table border=\"1\" class=\"dataframe\">\n",
       "  <thead>\n",
       "    <tr style=\"text-align: right;\">\n",
       "      <th></th>\n",
       "      <th>timestamp</th>\n",
       "      <th>open</th>\n",
       "      <th>high</th>\n",
       "      <th>low</th>\n",
       "      <th>close</th>\n",
       "      <th>volume</th>\n",
       "    </tr>\n",
       "  </thead>\n",
       "  <tbody>\n",
       "    <tr>\n",
       "      <th>0</th>\n",
       "      <td>2025-07-25 19:55:00</td>\n",
       "      <td>259.43</td>\n",
       "      <td>259.55</td>\n",
       "      <td>259.40</td>\n",
       "      <td>259.55</td>\n",
       "      <td>494</td>\n",
       "    </tr>\n",
       "    <tr>\n",
       "      <th>1</th>\n",
       "      <td>2025-07-25 19:50:00</td>\n",
       "      <td>259.48</td>\n",
       "      <td>259.48</td>\n",
       "      <td>259.45</td>\n",
       "      <td>259.45</td>\n",
       "      <td>484</td>\n",
       "    </tr>\n",
       "    <tr>\n",
       "      <th>2</th>\n",
       "      <td>2025-07-25 19:45:00</td>\n",
       "      <td>259.44</td>\n",
       "      <td>259.55</td>\n",
       "      <td>259.28</td>\n",
       "      <td>259.43</td>\n",
       "      <td>527</td>\n",
       "    </tr>\n",
       "    <tr>\n",
       "      <th>3</th>\n",
       "      <td>2025-07-25 19:40:00</td>\n",
       "      <td>259.53</td>\n",
       "      <td>259.54</td>\n",
       "      <td>259.44</td>\n",
       "      <td>259.54</td>\n",
       "      <td>332</td>\n",
       "    </tr>\n",
       "    <tr>\n",
       "      <th>4</th>\n",
       "      <td>2025-07-25 19:35:00</td>\n",
       "      <td>259.43</td>\n",
       "      <td>259.53</td>\n",
       "      <td>259.43</td>\n",
       "      <td>259.53</td>\n",
       "      <td>90</td>\n",
       "    </tr>\n",
       "  </tbody>\n",
       "</table>\n",
       "</div>"
      ],
      "text/plain": [
       "             timestamp    open    high     low   close  volume\n",
       "0  2025-07-25 19:55:00  259.43  259.55  259.40  259.55     494\n",
       "1  2025-07-25 19:50:00  259.48  259.48  259.45  259.45     484\n",
       "2  2025-07-25 19:45:00  259.44  259.55  259.28  259.43     527\n",
       "3  2025-07-25 19:40:00  259.53  259.54  259.44  259.54     332\n",
       "4  2025-07-25 19:35:00  259.43  259.53  259.43  259.53      90"
      ]
     },
     "execution_count": 5,
     "metadata": {},
     "output_type": "execute_result"
    }
   ],
   "source": [
    "df.head()"
   ]
  },
  {
   "cell_type": "code",
   "execution_count": 7,
   "id": "dd38cb22-173d-4198-b23e-f64cc5bb87d3",
   "metadata": {},
   "outputs": [
    {
     "ename": "KafkaTimeoutError",
     "evalue": "KafkaTimeoutError: Failed to update metadata after 60.0 secs.",
     "output_type": "error",
     "traceback": [
      "\u001b[31m--------------------------------------------------\u001b[39m",
      "\u001b[31mKafkaTimeoutError\u001b[39mTraceback (most recent call last)",
      "\u001b[36mCell\u001b[39m\u001b[36m \u001b[39m\u001b[32mIn[7]\u001b[39m\u001b[32m, line 3\u001b[39m\n\u001b[32m      1\u001b[39m \u001b[38;5;28;01mwhile\u001b[39;00m \u001b[38;5;28;01mTrue\u001b[39;00m:\n\u001b[32m      2\u001b[39m     dict_stock = df.sample(\u001b[32m1\u001b[39m).to_dict(orient = \u001b[33m'\u001b[39m\u001b[33mrecords\u001b[39m\u001b[33m'\u001b[39m)[\u001b[32m0\u001b[39m]\n\u001b[32m----> \u001b[39m\u001b[32m3\u001b[39m     \u001b[43mproducer\u001b[49m\u001b[43m.\u001b[49m\u001b[43msend\u001b[49m\u001b[43m(\u001b[49m\u001b[33;43m'\u001b[39;49m\u001b[33;43mproject-kafka1\u001b[39;49m\u001b[33;43m'\u001b[39;49m\u001b[43m,\u001b[49m\u001b[43m \u001b[49m\u001b[43mvalue\u001b[49m\u001b[43m \u001b[49m\u001b[43m=\u001b[49m\u001b[43m \u001b[49m\u001b[43mdict_stock\u001b[49m\u001b[43m)\u001b[49m\n\u001b[32m      4\u001b[39m     sleep(\u001b[32m1\u001b[39m)\n",
      "\u001b[36mFile \u001b[39m\u001b[32m~\\AppData\\Local\\Packages\\PythonSoftwareFoundation.Python.3.13_qbz5n2kfra8p0\\LocalCache\\local-packages\\Python313\\site-packages\\kafka\\producer\\kafka.py:840\u001b[39m, in \u001b[36mKafkaProducer.send\u001b[39m\u001b[34m(self, topic, value, key, headers, partition, timestamp_ms)\u001b[39m\n\u001b[32m    838\u001b[39m assigned_partition = \u001b[38;5;28;01mNone\u001b[39;00m\n\u001b[32m    839\u001b[39m \u001b[38;5;28;01mwhile\u001b[39;00m assigned_partition \u001b[38;5;129;01mis\u001b[39;00m \u001b[38;5;28;01mNone\u001b[39;00m \u001b[38;5;129;01mand\u001b[39;00m \u001b[38;5;129;01mnot\u001b[39;00m timer.expired:\n\u001b[32m--> \u001b[39m\u001b[32m840\u001b[39m     \u001b[38;5;28;43mself\u001b[39;49m\u001b[43m.\u001b[49m\u001b[43m_wait_on_metadata\u001b[49m\u001b[43m(\u001b[49m\u001b[43mtopic\u001b[49m\u001b[43m,\u001b[49m\u001b[43m \u001b[49m\u001b[43mtimer\u001b[49m\u001b[43m.\u001b[49m\u001b[43mtimeout_ms\u001b[49m\u001b[43m)\u001b[49m\n\u001b[32m    842\u001b[39m     key_bytes = \u001b[38;5;28mself\u001b[39m._serialize(\n\u001b[32m    843\u001b[39m         \u001b[38;5;28mself\u001b[39m.config[\u001b[33m'\u001b[39m\u001b[33mkey_serializer\u001b[39m\u001b[33m'\u001b[39m],\n\u001b[32m    844\u001b[39m         topic, key)\n\u001b[32m    845\u001b[39m     value_bytes = \u001b[38;5;28mself\u001b[39m._serialize(\n\u001b[32m    846\u001b[39m         \u001b[38;5;28mself\u001b[39m.config[\u001b[33m'\u001b[39m\u001b[33mvalue_serializer\u001b[39m\u001b[33m'\u001b[39m],\n\u001b[32m    847\u001b[39m         topic, value)\n",
      "\u001b[36mFile \u001b[39m\u001b[32m~\\AppData\\Local\\Packages\\PythonSoftwareFoundation.Python.3.13_qbz5n2kfra8p0\\LocalCache\\local-packages\\Python313\\site-packages\\kafka\\producer\\kafka.py:964\u001b[39m, in \u001b[36mKafkaProducer._wait_on_metadata\u001b[39m\u001b[34m(self, topic, max_wait_ms)\u001b[39m\n\u001b[32m    962\u001b[39m metadata_event.wait(timer.timeout_ms / \u001b[32m1000\u001b[39m)\n\u001b[32m    963\u001b[39m \u001b[38;5;28;01mif\u001b[39;00m \u001b[38;5;129;01mnot\u001b[39;00m future.is_done:\n\u001b[32m--> \u001b[39m\u001b[32m964\u001b[39m     \u001b[38;5;28;01mraise\u001b[39;00m Errors.KafkaTimeoutError(\n\u001b[32m    965\u001b[39m         \u001b[33m\"\u001b[39m\u001b[33mFailed to update metadata after \u001b[39m\u001b[38;5;132;01m%.1f\u001b[39;00m\u001b[33m secs.\u001b[39m\u001b[33m\"\u001b[39m % (max_wait_ms / \u001b[32m1000\u001b[39m,))\n\u001b[32m    966\u001b[39m \u001b[38;5;28;01melif\u001b[39;00m future.failed() \u001b[38;5;129;01mand\u001b[39;00m \u001b[38;5;129;01mnot\u001b[39;00m future.retriable():\n\u001b[32m    967\u001b[39m     \u001b[38;5;28;01mraise\u001b[39;00m future.exception\n",
      "\u001b[31mKafkaTimeoutError\u001b[39m: KafkaTimeoutError: Failed to update metadata after 60.0 secs."
     ]
    }
   ],
   "source": [
    "while True:\n",
    "    dict_stock = df.sample(1).to_dict(orient = 'records')[0]\n",
    "    producer.send('project-kafka1', value = dict_stock)\n",
    "    sleep(1)"
   ]
  },
  {
   "cell_type": "code",
   "execution_count": 9,
   "id": "ab7a86e1-5d2a-4efb-a031-df404e3f0182",
   "metadata": {},
   "outputs": [],
   "source": [
    "producer.flush()"
   ]
  },
  {
   "cell_type": "code",
   "execution_count": null,
   "id": "e5cacd3d-0c17-4825-acae-bbd00e49965a",
   "metadata": {},
   "outputs": [],
   "source": []
  }
 ],
 "metadata": {
  "kernelspec": {
   "display_name": "Python 3 (ipykernel)",
   "language": "python",
   "name": "python3"
  },
  "language_info": {
   "codemirror_mode": {
    "name": "ipython",
    "version": 3
   },
   "file_extension": ".py",
   "mimetype": "text/x-python",
   "name": "python",
   "nbconvert_exporter": "python",
   "pygments_lexer": "ipython3",
   "version": "3.13.5"
  }
 },
 "nbformat": 4,
 "nbformat_minor": 5
}

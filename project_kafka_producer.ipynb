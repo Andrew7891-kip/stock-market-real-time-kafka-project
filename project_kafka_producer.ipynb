{
 "cells": [
  {
   "cell_type": "code",
   "execution_count": null,
   "id": "7bfc2c35-ae55-462a-8670-53e1ed374ff9",
   "metadata": {},
   "outputs": [],
   "source": [
    "pip install kafka-python"
   ]
  },
  {
   "cell_type": "code",
   "execution_count": null,
   "id": "c174bfa5-5992-4380-bb1d-b1626dabe8a8",
   "metadata": {},
   "outputs": [],
   "source": [
    "import pandas as pd\n",
    "from kafka import KafkaProducer\n",
    "from time import sleep\n",
    "from json import dumps\n",
    "import json"
   ]
  },
  {
   "cell_type": "code",
   "execution_count": null,
   "id": "bfb90be0-f28c-440e-b66f-15f120e558ca",
   "metadata": {},
   "outputs": [],
   "source": [
    "producer = KafkaProducer(bootstrap_servers = ['3.87.244.194:9092'],\n",
    "                         value_serializer  = lambda x:\n",
    "                         dumps(x).encode('utf-8'))"
   ]
  },
  {
   "cell_type": "code",
   "execution_count": null,
   "id": "8f1b5a03-0939-46c1-85c9-bed276d2895f",
   "metadata": {},
   "outputs": [],
   "source": [
    "producer.send('project-kafka', value = \"{'name : Andrew'},{'age' : '24'}\")"
   ]
  },
  {
   "cell_type": "code",
   "execution_count": null,
   "id": "09c30afc-3bae-4612-a592-fd0775367412",
   "metadata": {},
   "outputs": [],
   "source": [
    "df  = pd.read_csv(r\"C:\\Users\\Administrator\\Desktop\\project-kafka\\intraday_5min_IBM.csv\")"
   ]
  },
  {
   "cell_type": "code",
   "execution_count": null,
   "id": "47f53ac8-434d-4a27-9af9-6d189fc29d96",
   "metadata": {},
   "outputs": [],
   "source": [
    "df.head()"
   ]
  },
  {
   "cell_type": "code",
   "execution_count": null,
   "id": "dd38cb22-173d-4198-b23e-f64cc5bb87d3",
   "metadata": {},
   "outputs": [],
   "source": [
    "while True:\n",
    "    dict_stock = df.sample(1).to_dict(orient = 'records')[0]\n",
    "    producer.send('project-kafka1', value = dict_stock)\n",
    "    sleep(1)"
   ]
  },
  {
   "cell_type": "code",
   "execution_count": null,
   "id": "ab7a86e1-5d2a-4efb-a031-df404e3f0182",
   "metadata": {},
   "outputs": [],
   "source": [
    "producer.flush()"
   ]
  },
  {
   "cell_type": "code",
   "execution_count": null,
   "id": "e5cacd3d-0c17-4825-acae-bbd00e49965a",
   "metadata": {},
   "outputs": [],
   "source": []
  }
 ],
 "metadata": {
  "kernelspec": {
   "display_name": "Python 3 (ipykernel)",
   "language": "python",
   "name": "python3"
  },
  "language_info": {
   "codemirror_mode": {
    "name": "ipython",
    "version": 3
   },
   "file_extension": ".py",
   "mimetype": "text/x-python",
   "name": "python",
   "nbconvert_exporter": "python",
   "pygments_lexer": "ipython3",
   "version": "3.13.5"
  }
 },
 "nbformat": 4,
 "nbformat_minor": 5
}
